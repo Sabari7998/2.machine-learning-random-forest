{
 "cells": [
  {
   "cell_type": "code",
   "execution_count": 1,
   "id": "c4e9a3ae-dfab-4517-8f3f-e01f6b2ef8e2",
   "metadata": {},
   "outputs": [],
   "source": [
    "import pickle"
   ]
  },
  {
   "cell_type": "code",
   "execution_count": 3,
   "id": "59ee7230-2330-465b-ab9e-58068eb1fe6d",
   "metadata": {},
   "outputs": [
    {
     "name": "stderr",
     "output_type": "stream",
     "text": [
      "C:\\Users\\LENOVO\\Anaconda3\\Lib\\site-packages\\sklearn\\base.py:493: UserWarning: X does not have valid feature names, but RandomForestRegressor was fitted with feature names\n",
      "  warnings.warn(\n"
     ]
    }
   ],
   "source": [
    "loaded_model=pickle.load(open(\"finalized_model_rf.sav\",'rb'))\n",
    "result=loaded_model.predict([[1234,345,4565,1,0]])"
   ]
  },
  {
   "cell_type": "code",
   "execution_count": 5,
   "id": "e658124e-7cab-4594-8836-6138719b5c8c",
   "metadata": {},
   "outputs": [
    {
     "data": {
      "text/plain": [
       "array([50022.5385])"
      ]
     },
     "execution_count": 5,
     "metadata": {},
     "output_type": "execute_result"
    }
   ],
   "source": [
    "result"
   ]
  },
  {
   "cell_type": "code",
   "execution_count": null,
   "id": "d87df486-c407-4f17-9e32-9a6025a7db7f",
   "metadata": {},
   "outputs": [],
   "source": [
    "#pickle.dump(regressor,open(filename,'wb'))\n",
    "#rd_input=float(input(\"R&D:\"))\n",
    "#admin_input=float(input(\"Admin\"))\n",
    "#mark_input=float(input(\"Marketing \"))\n",
    "#fol_input=int(input(\"State_flo 0 or 1:\"))\n",
    "#new_input=int(input(\"State_new 0 or 1:\"))\n",
    "#loaded_model=pickle.load(open(\"finalized_model_mullinear.sav\",'rb'))\n",
    "#result=loaded_model.predict([[rd_input,admin_input,mark_input,fol_input,new_input]])"
   ]
  }
 ],
 "metadata": {
  "kernelspec": {
   "display_name": "Python 3 (ipykernel)",
   "language": "python",
   "name": "python3"
  },
  "language_info": {
   "codemirror_mode": {
    "name": "ipython",
    "version": 3
   },
   "file_extension": ".py",
   "mimetype": "text/x-python",
   "name": "python",
   "nbconvert_exporter": "python",
   "pygments_lexer": "ipython3",
   "version": "3.12.4"
  }
 },
 "nbformat": 4,
 "nbformat_minor": 5
}
